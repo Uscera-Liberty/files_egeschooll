{
 "cells": [
  {
   "cell_type": "code",
   "execution_count": 4,
   "id": "8a5313fe",
   "metadata": {},
   "outputs": [
    {
     "name": "stdout",
     "output_type": "stream",
     "text": [
      "85\n"
     ]
    }
   ],
   "source": []
  },
  {
   "cell_type": "code",
   "execution_count": null,
   "id": "3e5c00ac",
   "metadata": {},
   "outputs": [],
   "source": [
    "1--> 11"
   ]
  },
  {
   "cell_type": "code",
   "execution_count": 8,
   "id": "69c599f1",
   "metadata": {},
   "outputs": [
    {
     "name": "stdout",
     "output_type": "stream",
     "text": [
      "x y w z\n",
      "1 1 0 1\n",
      "1 0 1 1\n",
      "1 0 1 0\n",
      "1 0 0 1\n",
      "1 0 0 0\n",
      "zwyx\n"
     ]
    }
   ],
   "source": [
    "print('x y w z')\n",
    "for x in 1 ,0:\n",
    "    for y in 1 ,0:\n",
    "        for w in 1 ,0:\n",
    "            for z in 1 , 0:\n",
    "                if (((z <= w) <= (not(y))) and x):\n",
    "                    print(x , y , w , z)\n",
    "print('zwyx')"
   ]
  },
  {
   "cell_type": "markdown",
   "id": "0cc5c4dd",
   "metadata": {},
   "source": [
    "3 --> 97680; 4--> 27;"
   ]
  },
  {
   "cell_type": "code",
   "execution_count": 7,
   "id": "01ca7674",
   "metadata": {},
   "outputs": [
    {
     "name": "stdout",
     "output_type": "stream",
     "text": [
      "85\n"
     ]
    }
   ],
   "source": [
    "for N in range(1 , 257):\n",
    "    s = \"{:08b}\".format(N) \n",
    "    p = s.rfind('1') \n",
    "    sR = s[p:] \n",
    "    for i in range(p-1,-1,-1): \n",
    "        sR = ('1' if s[i] == '0' else '0') + sR\n",
    "    if int(sR,2) == 171:\n",
    "        print(N)"
   ]
  },
  {
   "cell_type": "code",
   "execution_count": null,
   "id": "85187157",
   "metadata": {},
   "outputs": [],
   "source": [
    "6--> 20; 7--> 65536;"
   ]
  },
  {
   "cell_type": "code",
   "execution_count": 15,
   "id": "5691059d",
   "metadata": {},
   "outputs": [
    {
     "name": "stdout",
     "output_type": "stream",
     "text": [
      "10080\n"
     ]
    }
   ],
   "source": [
    "from itertools import permutations\n",
    "s = set()\n",
    "for x in permutations('АМФИБРАХИЙ' ,10):\n",
    "    w = ''.join(x)\n",
    "    if w[4:6] == 'БР':s.add(w)\n",
    "print(len(s))"
   ]
  },
  {
   "cell_type": "markdown",
   "id": "fb9a35bb",
   "metadata": {},
   "source": [
    "9 --> 2241; 10 --> 21; 11 --> 500;"
   ]
  },
  {
   "cell_type": "code",
   "execution_count": 16,
   "id": "2d26a8a8",
   "metadata": {},
   "outputs": [
    {
     "name": "stdout",
     "output_type": "stream",
     "text": [
      "5\n"
     ]
    }
   ],
   "source": [
    "for i in range(1 ,30):\n",
    "    s = 15 * '3' + 18* '2' + i*'1'\n",
    "    while '31' in s or '33' in s or '21' in s:\n",
    "        if '31' in s: s = s.replace('31' ,'123' , 1)\n",
    "        if '33' in s:s = s.replace('33' ,'211' , 1)\n",
    "        if '21' in s:s = s.replace('21' ,'1' , 1)\n",
    "    if sum([int(i) for i in s]) >= 24:\n",
    "        print(i)\n",
    "        break\n",
    "        "
   ]
  },
  {
   "cell_type": "markdown",
   "id": "4444cc63",
   "metadata": {},
   "source": [
    "13 --> 11"
   ]
  },
  {
   "cell_type": "code",
   "execution_count": 17,
   "id": "1fc3f940",
   "metadata": {},
   "outputs": [
    {
     "name": "stdout",
     "output_type": "stream",
     "text": [
      "755\n"
     ]
    }
   ],
   "source": [
    "result = 0\n",
    "for x in range(10):\n",
    "    n1 = 13204 + x * 10 + 3\n",
    "    n2 = 13 ** 4 + 3 * 13 ** 3 + 4 * 13 ** 2 + x * 13 + 2\n",
    "    n = n1 - n2\n",
    "    if abs(n) % 30 == 0:\n",
    "        result = abs(n) // 30\n",
    "print(result)"
   ]
  },
  {
   "cell_type": "code",
   "execution_count": 18,
   "id": "18a8be9c",
   "metadata": {},
   "outputs": [
    {
     "name": "stdout",
     "output_type": "stream",
     "text": [
      "139\n"
     ]
    }
   ],
   "source": [
    "for a in range(1 , 1000):\n",
    "    f = 1\n",
    "    for x in range(1 , 1000):\n",
    "        f *= (x + a >= 160 or ((x%7==0) <= (x-17 < 0)))\n",
    "    if f:\n",
    "        print(a)\n",
    "        break"
   ]
  },
  {
   "cell_type": "code",
   "execution_count": 20,
   "id": "0d0fd656",
   "metadata": {},
   "outputs": [
    {
     "name": "stdout",
     "output_type": "stream",
     "text": [
      "71991061\n"
     ]
    }
   ],
   "source": [
    "print((1_585_342_628 - 865_432_015)// 10)"
   ]
  },
  {
   "cell_type": "code",
   "execution_count": 29,
   "id": "f9b29599",
   "metadata": {},
   "outputs": [
    {
     "name": "stdout",
     "output_type": "stream",
     "text": [
      "2457 121\n"
     ]
    }
   ],
   "source": [
    "from functools import reduce\n",
    "f = open('17.txt')\n",
    "a = [int(i) for i in f]\n",
    "k = 0\n",
    "mxi = 0\n",
    "for i in a:\n",
    "    s = reduce(lambda x,y: x * y, [int(j) for j in str(i) if j != '-' ])\n",
    "    if str(s)[-2:] == '42':\n",
    "        mxi  = max(mxi , i)\n",
    "mini = 10**10\n",
    "for i in range(len(a) - 3):\n",
    "    s1 = [abs(a[i]) , abs(a[i+1]) , abs(a[i+2])]\n",
    "    if len(set(s1)) <= 2 and (a[i] <= mxi) and (a[i+1] <= mxi) and (a[i+2] <= mxi):\n",
    "        k += 1\n",
    "        for i in s1:\n",
    "            if s1.count(i) >= 2:\n",
    "                mini = min(mini , i**2)\n",
    "print(k , mini)"
   ]
  },
  {
   "cell_type": "markdown",
   "id": "2e10841a",
   "metadata": {},
   "source": [
    "18 --> 1171 588"
   ]
  },
  {
   "cell_type": "code",
   "execution_count": 21,
   "id": "2e262310",
   "metadata": {},
   "outputs": [],
   "source": [
    "def f(s , c , m):\n",
    "    if s < 10 :return c%2 == m%2\n",
    "    if c == m :return 0\n",
    "    h = [f(s//3 , c+1 ,m) , f(s+10 , c+1 ,m)]\n",
    "    return any(h) if (c+1)%2 == m%2 else all(h)\n",
    "def f1(s , c , m):\n",
    "    if s < 10 :return c%2 == m%2\n",
    "    if c == m :return 0\n",
    "    h = [f(s//3 , c+1 ,m) , f(s+10 , c+1 ,m)]\n",
    "    return any(h) if (c+1)%2 == m%2 else any(h)\n",
    "# 89 29_12 \n",
    "for s in range(100 ,11 ,-1):\n",
    "    for m in range(0 , 5):\n",
    "        if f(s , 0 , m):\n",
    "            if (m == 2 and not(f1(s , 0 , m))) or m == 4:\n",
    "                print(s , m)\n",
    "                break"
   ]
  },
  {
   "cell_type": "markdown",
   "id": "a8d66931",
   "metadata": {},
   "source": [
    "19 --> 89; 20 --> 12 29; 21--> ?"
   ]
  },
  {
   "cell_type": "code",
   "execution_count": 1,
   "id": "fa539b85",
   "metadata": {},
   "outputs": [
    {
     "name": "stdout",
     "output_type": "stream",
     "text": [
      "1079275\n"
     ]
    }
   ],
   "source": [
    "def f(a , b):\n",
    "    if a > b or '5' in str(a):return 0\n",
    "    if a == b:return 1\n",
    "    return f(a+1 , b) + f(a+3 , b) + f(a*3 , b)\n",
    "print(f(1,49))"
   ]
  },
  {
   "cell_type": "code",
   "execution_count": 19,
   "id": "2edc2d95",
   "metadata": {},
   "outputs": [
    {
     "name": "stdout",
     "output_type": "stream",
     "text": [
      "EEEEEEEEEEEEEEEEEEE 29\n"
     ]
    }
   ],
   "source": [
    "f = open('24-22.txt')\n",
    "c = 0\n",
    "mxs = ''\n",
    "while x := f.readline():\n",
    "    k = x[0] \n",
    "    for i in range(len(x)-1):\n",
    "        if x[i] == x[i+1]:\n",
    "            k += x[i]\n",
    "            continue\n",
    "        if len(mxs) < len(k) or ((len(mxs) == len(k)) and (x.count(k[0]) > c)):\n",
    "            mxs = k\n",
    "            c = x.count(k[0])\n",
    "        k = x[i+1] \n",
    "print(mxs, c)"
   ]
  },
  {
   "cell_type": "code",
   "execution_count": 2,
   "id": "62228ad2",
   "metadata": {},
   "outputs": [
    {
     "name": "stdout",
     "output_type": "stream",
     "text": [
      "2029476 212\n",
      "2021932476 211212\n",
      "2023847076 211412\n",
      "2024708646 211502\n",
      "2025474486 211582\n",
      "2026814706 211722\n"
     ]
    }
   ],
   "source": [
    "from fnmatch import *\n",
    "\n",
    "for i in range(201_033 , 10**10 , 9573):\n",
    "    if fnmatch(str(i) , '202*47*6'):\n",
    "        print(str(i) ,i//9573)"
   ]
  },
  {
   "cell_type": "markdown",
   "id": "2bbc86e4",
   "metadata": {},
   "source": [
    "26 excel -- > 147763 6564"
   ]
  },
  {
   "cell_type": "code",
   "execution_count": null,
   "id": "2d97cd7b",
   "metadata": {},
   "outputs": [],
   "source": [
    "print('27 zad')"
   ]
  }
 ],
 "metadata": {
  "kernelspec": {
   "display_name": "Python 3 (ipykernel)",
   "language": "python",
   "name": "python3"
  },
  "language_info": {
   "codemirror_mode": {
    "name": "ipython",
    "version": 3
   },
   "file_extension": ".py",
   "mimetype": "text/x-python",
   "name": "python",
   "nbconvert_exporter": "python",
   "pygments_lexer": "ipython3",
   "version": "3.10.8"
  }
 },
 "nbformat": 4,
 "nbformat_minor": 5
}
